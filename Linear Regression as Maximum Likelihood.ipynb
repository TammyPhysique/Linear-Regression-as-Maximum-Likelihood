{
 "cells": [
  {
   "cell_type": "markdown",
   "id": "bdce3a10",
   "metadata": {
    "slideshow": {
     "slide_type": "slide"
    },
    "tags": [
     "##",
     "Linear",
     "Regression",
     "as",
     "Maximum",
     "Likelihood"
    ]
   },
   "source": [
    "# Linear Regression as Maximum Likelihood\n",
    "\n",
    "In this lab I explore the concept of linear regression in terms of maximum likelihood estimation. First load standard libraries and define a function to give us some random data points for the purpose of example.\n",
    "\n",
    "### Index:\n",
    "1. [Importing libraries](#Importing)\n",
    "2. [Function](#Function)\n",
    "3. [Random Data](#data)\n",
    "4. [Scikit-Learn Function](#Scikit-Learn)\n",
    "5. [The Minimization Algorithm](#Algorithm)"
   ]
  },
  {
   "cell_type": "markdown",
   "id": "ae44ff08",
   "metadata": {
    "slideshow": {
     "slide_type": "slide"
    }
   },
   "source": [
    "## Importing libraries <a name=\"Importing\"></a>"
   ]
  },
  {
   "cell_type": "code",
   "execution_count": 38,
   "id": "2b290983",
   "metadata": {
    "slideshow": {
     "slide_type": "slide"
    }
   },
   "outputs": [],
   "source": [
    "import numpy as np\n",
    "import matplotlib.pyplot as plt\n",
    "from sklearn.model_selection import train_test_split\n",
    "%matplotlib inline"
   ]
  },
  {
   "cell_type": "markdown",
   "id": "4ac34ffb",
   "metadata": {
    "slideshow": {
     "slide_type": "slide"
    }
   },
   "source": [
    "## Function <a name=\"Function\"></a>"
   ]
  },
  {
   "cell_type": "code",
   "execution_count": 39,
   "id": "8f6f5aaf",
   "metadata": {
    "slideshow": {
     "slide_type": "slide"
    }
   },
   "outputs": [],
   "source": [
    "def random_data(beta, n, std_dev, maxval=100):\n",
    "\n",
    "    x = np.random.rand(n) * maxval\n",
    "\n",
    "    e = np.random.randn(n) * std_dev\n",
    "\n",
    "    y = x * beta + e\n",
    "    return x, y"
   ]
  },
  {
   "cell_type": "markdown",
   "id": "db2bca1c",
   "metadata": {
    "slideshow": {
     "slide_type": "slide"
    }
   },
   "source": [
    "## Some Random Data <a name=\"data\"></a>"
   ]
  },
  {
   "cell_type": "code",
   "execution_count": 40,
   "id": "3136b5a4",
   "metadata": {
    "slideshow": {
     "slide_type": "slide"
    }
   },
   "outputs": [
    {
     "data": {
      "image/png": "[encoded data removed]",
      "text/plain": [
       "<Figure size 432x288 with 1 Axes>"
      ]
     },
     "metadata": {
      "needs_background": "light"
     },
     "output_type": "display_data"
    }
   ],
   "source": [
    "x,y = random_data(10, 50, 100)\n",
    "plt.xlabel('X')\n",
    "plt.ylabel('Y')\n",
    "plt.scatter(x,y)\n",
    "plt.show()\n",
    "\n"
   ]
  },
  {
   "cell_type": "markdown",
   "id": "16a023a7",
   "metadata": {
    "slideshow": {
     "slide_type": "slide"
    }
   },
   "source": [
    "## Scikit-Learn Function\n",
    "Scikit-Learn function shall split data into test and training set, with the best set beingd 33% of the total dataset.\n",
    "<a name=\"Scikit-Learn\"></a>"
   ]
  },
  {
   "cell_type": "code",
   "execution_count": 41,
   "id": "d146fedf",
   "metadata": {
    "slideshow": {
     "slide_type": "slide"
    }
   },
   "outputs": [
    {
     "name": "stdout",
     "output_type": "stream",
     "text": [
      "Size of train sample:  33\n",
      "Size of test sample:  17\n"
     ]
    }
   ],
   "source": [
    "x_train, x_test, y_train, y_test = train_test_split(x, y,test_size=0.33, random_state=42)\n",
    "\n",
    "print(\"Size of train sample: \", len(x_train))\n",
    "print(\"Size of test sample: \", len(x_test))"
   ]
  },
  {
   "cell_type": "markdown",
   "id": "06b4ecd9",
   "metadata": {
    "slideshow": {
     "slide_type": "slide"
    }
   },
   "source": [
    "## The Minimization Algorithm <a name=\"Algorithm\"></a>\n"
   ]
  },
  {
   "cell_type": "code",
   "execution_count": 42,
   "id": "e0a8f916",
   "metadata": {
    "scrolled": true,
    "slideshow": {
     "slide_type": "slide"
    }
   },
   "outputs": [
    {
     "data": {
      "text/plain": [
       "<function matplotlib.pyplot.show(close=None, block=None)>"
      ]
     },
     "execution_count": 42,
     "metadata": {},
     "output_type": "execute_result"
    },
    {
     "data": {
      "image/png": "[encoded data removed]",
      "text/plain": [
       "<Figure size 432x288 with 1 Axes>"
      ]
     },
     "metadata": {
      "needs_background": "light"
     },
     "output_type": "display_data"
    }
   ],
   "source": [
    "from scipy.optimize import minimize\n",
    "\n",
    "def negative_11(theta):\n",
    "    (m, b, sigma) = theta\n",
    "\n",
    "    y = m*x_train + b\n",
    "\n",
    "    L = (1 / (2 * sigma ** 2) * sum((y - y_train) ** 2))\n",
    "    return L\n",
    "\n",
    "MLE = minimize(negative_11, np.array([1,1,1]), method='L-BFGS-B')\n",
    "\n",
    "(m, b, sigma) = MLE['x']\n",
    "\n",
    "plt.scatter(x_train, y_train)\n",
    "plt.plot(x, m*x + b)\n",
    "plt.show"
   ]
  }
 ],
 "metadata": {
  "kernelspec": {
   "display_name": "Python 3 (ipykernel)",
   "language": "python",
   "name": "python3"
  },
  "language_info": {
   "codemirror_mode": {
    "name": "ipython",
    "version": 3
   },
   "file_extension": ".py",
   "mimetype": "text/x-python",
   "name": "python",
   "nbconvert_exporter": "python",
   "pygments_lexer": "ipython3",
   "version": "3.9.12"
  }
 },
 "nbformat": 4,
 "nbformat_minor": 5
}
